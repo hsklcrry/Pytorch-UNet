{
 "cells": [
  {
   "cell_type": "code",
   "execution_count": 1,
   "metadata": {},
   "outputs": [
    {
     "ename": "ModuleNotFoundError",
     "evalue": "No module named 'torch'",
     "output_type": "error",
     "traceback": [
      "\u001b[0;31m---------------------------------------------------------------------------\u001b[0m",
      "\u001b[0;31mModuleNotFoundError\u001b[0m                       Traceback (most recent call last)",
      "\u001b[1;32m/home/igor/ml/Pytorch-UNet/utils/test_mask.ipynb Cell 1'\u001b[0m in \u001b[0;36m<cell line: 1>\u001b[0;34m()\u001b[0m\n\u001b[0;32m----> <a href='vscode-notebook-cell://wsl%2Bubuntu/home/igor/ml/Pytorch-UNet/utils/test_mask.ipynb#ch0000000vscode-remote?line=0'>1</a>\u001b[0m \u001b[39mimport\u001b[39;00m \u001b[39mtorch\u001b[39;00m\n\u001b[1;32m      <a href='vscode-notebook-cell://wsl%2Bubuntu/home/igor/ml/Pytorch-UNet/utils/test_mask.ipynb#ch0000000vscode-remote?line=1'>2</a>\u001b[0m \u001b[39mimport\u001b[39;00m \u001b[39mlogging\u001b[39;00m\n\u001b[1;32m      <a href='vscode-notebook-cell://wsl%2Bubuntu/home/igor/ml/Pytorch-UNet/utils/test_mask.ipynb#ch0000000vscode-remote?line=2'>3</a>\u001b[0m \u001b[39mfrom\u001b[39;00m \u001b[39mos\u001b[39;00m \u001b[39mimport\u001b[39;00m listdir\n",
      "\u001b[0;31mModuleNotFoundError\u001b[0m: No module named 'torch'"
     ]
    }
   ],
   "source": [
    "import torch\n",
    "import logging\n",
    "from os import listdir\n",
    "from os.path import splitext\n",
    "from pathlib import Path\n",
    "\n",
    "import numpy as np\n",
    "\n",
    "from PIL import Image\n",
    "from torch.utils.data import Dataset\n",
    "import torch.nn.functional as F\n",
    "\n",
    "dir_img = Path('/home/igor/ml/solaris_test/tiling/3_3/') # Path('./data/imgs/')\n",
    "dir_mask = Path('/home/igor/ml/solaris_test/tiling/maskRGB/') # Path('./data/masks/')\n",
    "dir_checkpoint = Path('./checkpoints/')"
   ]
  },
  {
   "cell_type": "code",
   "execution_count": 61,
   "metadata": {},
   "outputs": [],
   "source": [
    "import torch\n",
    "import torch.nn as nn\n",
    "import torch.nn.functional as F\n",
    "import wandb\n",
    "from torch import optim\n",
    "from torch.utils.data import DataLoader, random_split\n",
    "from tqdm import tqdm\n",
    "\n",
    "from data_loading import BasicDataset, BasicDatasetRGB, CarvanaDataset\n",
    "from dice_score import dice_loss\n",
    "#from evaluate import evaluate\n",
    "#from unet import UNet"
   ]
  },
  {
   "cell_type": "code",
   "execution_count": 65,
   "metadata": {},
   "outputs": [],
   "source": [
    "img_scale = 1.0\n",
    "val_percent = 0.2\n",
    "batch_size = 2"
   ]
  },
  {
   "cell_type": "code",
   "execution_count": 62,
   "metadata": {},
   "outputs": [],
   "source": [
    "\n",
    "\n",
    "dataset = BasicDatasetRGB(dir_img, dir_mask, img_scale)"
   ]
  },
  {
   "cell_type": "code",
   "execution_count": 64,
   "metadata": {},
   "outputs": [],
   "source": [
    "n_val = int(len(dataset) * val_percent)\n",
    "n_train = len(dataset) - n_val\n",
    "train_set, val_set = random_split(dataset, [n_train, n_val], generator=torch.Generator().manual_seed(0))\n"
   ]
  },
  {
   "cell_type": "code",
   "execution_count": 66,
   "metadata": {},
   "outputs": [],
   "source": [
    "loader_args = dict(batch_size=batch_size, num_workers=1, pin_memory=True)\n",
    "train_loader = DataLoader(train_set, shuffle=True, **loader_args)\n",
    "val_loader = DataLoader(val_set, shuffle=False, drop_last=True, **loader_args)"
   ]
  },
  {
   "cell_type": "code",
   "execution_count": null,
   "metadata": {},
   "outputs": [],
   "source": []
  },
  {
   "cell_type": "code",
   "execution_count": 11,
   "metadata": {},
   "outputs": [
    {
     "name": "stdout",
     "output_type": "stream",
     "text": [
      "torch.Size([512, 512, 3])\n",
      "torch.Size([512, 512])\n"
     ]
    }
   ],
   "source": [
    "mask_folder = '/home/igor/ml/solaris_test/tiling/maskRGB/'\n",
    "mask_path = '/home/igor/ml/solaris_test/tiling/maskRGB/3_3_1.png'\n",
    "\n",
    "colors = np.array([[0,0,0],[255,0,0],[0,255,0],[0,0,255]])\n",
    "mapping = {tuple(c): t for c, t in zip(colors.tolist(), range(len(colors)))}\n",
    "\n",
    "def mask_to_class(self, mask):\n",
    "\n",
    "        #target = torch.from_numpy(mask)\n",
    "\n",
    "        target = mask\n",
    "\n",
    "        h,w = target.shape[0],target.shape[1]\n",
    "\n",
    "        masks = torch.empty(h, w, dtype=torch.long)\n",
    "\n",
    "        #colors = torch.unique(target.view(-1,target.size(2)),dim=0).numpy()\n",
    "\n",
    "        #print(\"colors: \", colors)\n",
    "\n",
    "        #print(\"len(colors): \" + str(len(colors)))\n",
    "\n",
    "        target = target.permute(2, 0, 1).contiguous()\n",
    "\n",
    "        mapping = {tuple(c): t for c, t in zip(colors.tolist(), range(len(colors)))}\n",
    "\n",
    "        #print(\"mapping: \" + str(mapping))\n",
    "\n",
    "        for k in mapping:\n",
    "\n",
    "            #print(\"k: \" + str(k))\n",
    "\n",
    "            idx = (target==torch.tensor(k, dtype=torch.uint8).unsqueeze(1).unsqueeze(2))\n",
    "\n",
    "            validx = (idx.sum(0) == 3) \n",
    "\n",
    "            masks[validx] = torch.tensor(mapping[k], dtype=torch.long)\n",
    "        \n",
    "        #print(masks)\n",
    "\n",
    "        return masks\n",
    "\n",
    "mask=torch.as_tensor( np.asarray(Image.open(mask_path).copy()))\n",
    "mask1=mask_to_class(None, mask)\n",
    "print(mask.shape)\n",
    "print(mask1.shape)\n",
    "\n",
    "\n"
   ]
  },
  {
   "cell_type": "code",
   "execution_count": 12,
   "metadata": {},
   "outputs": [],
   "source": [
    "img = Image.fromarray(mask.numpy())"
   ]
  },
  {
   "cell_type": "code",
   "execution_count": 13,
   "metadata": {},
   "outputs": [
    {
     "data": {
      "image/png": "[encoded data removed]",
      "text/plain": [
       "<PIL.Image.Image image mode=RGB size=512x512 at 0x7F48398C6F70>"
      ]
     },
     "execution_count": 13,
     "metadata": {},
     "output_type": "execute_result"
    }
   ],
   "source": [
    "img"
   ]
  },
  {
   "cell_type": "code",
   "execution_count": 14,
   "metadata": {},
   "outputs": [
    {
     "data": {
      "text/plain": [
       "torch.Size([512, 512, 3])"
      ]
     },
     "execution_count": 14,
     "metadata": {},
     "output_type": "execute_result"
    }
   ],
   "source": [
    "onehot = F.one_hot(mask1, )\n",
    "\n",
    "onehot.shape"
   ]
  },
  {
   "cell_type": "code",
   "execution_count": 38,
   "metadata": {},
   "outputs": [
    {
     "data": {
      "image/png": "[encoded data removed]",
      "text/plain": [
       "<PIL.Image.Image image mode=I;16 size=512x512 at 0x7F4839488280>"
      ]
     },
     "execution_count": 38,
     "metadata": {},
     "output_type": "execute_result"
    }
   ],
   "source": [
    "#onehot[400,450]\n",
    "\n",
    "img_mask = Image.fromarray( 25500 * np.array(onehot[:,:,0].numpy(),dtype=np.uint8))\n",
    "img_mask\n"
   ]
  },
  {
   "cell_type": "code",
   "execution_count": 16,
   "metadata": {},
   "outputs": [],
   "source": [
    "onehot1 = np.array( onehot.numpy(),dtype=np.uint8)\n"
   ]
  },
  {
   "cell_type": "code",
   "execution_count": 17,
   "metadata": {},
   "outputs": [],
   "source": [
    "img2 = Image.fromarray(onehot1.astype(np.uint8) * 255)"
   ]
  },
  {
   "cell_type": "code",
   "execution_count": 24,
   "metadata": {},
   "outputs": [
    {
     "data": {
      "image/png": "[encoded data removed]",
      "text/plain": [
       "<PIL.Image.Image image mode=RGB size=512x512 at 0x7F48C03240D0>"
      ]
     },
     "execution_count": 24,
     "metadata": {},
     "output_type": "execute_result"
    }
   ],
   "source": [
    "img2"
   ]
  },
  {
   "cell_type": "code",
   "execution_count": 23,
   "metadata": {},
   "outputs": [
    {
     "data": {
      "text/plain": [
       "torch.int64"
      ]
     },
     "execution_count": 23,
     "metadata": {},
     "output_type": "execute_result"
    }
   ],
   "source": [
    "torch.as_tensor( onehot1).long().dtype"
   ]
  },
  {
   "cell_type": "code",
   "execution_count": 51,
   "metadata": {},
   "outputs": [
    {
     "data": {
      "text/plain": [
       "array([[  0,   0,   0],\n",
       "       [  0, 255,   0]], dtype=uint8)"
      ]
     },
     "execution_count": 51,
     "metadata": {},
     "output_type": "execute_result"
    }
   ],
   "source": [
    "torch.unique(mask.view(-1,mask.size(2)),dim=0).numpy()"
   ]
  },
  {
   "cell_type": "code",
   "execution_count": 53,
   "metadata": {},
   "outputs": [
    {
     "data": {
      "text/plain": [
       "torch.Size([262144, 3])"
      ]
     },
     "execution_count": 53,
     "metadata": {},
     "output_type": "execute_result"
    }
   ],
   "source": [
    "mask.view(-1,mask.size(2)).shape"
   ]
  },
  {
   "cell_type": "code",
   "execution_count": 55,
   "metadata": {},
   "outputs": [
    {
     "data": {
      "text/plain": [
       "786432"
      ]
     },
     "execution_count": 55,
     "metadata": {},
     "output_type": "execute_result"
    }
   ],
   "source": [
    "mask.numpy().size"
   ]
  },
  {
   "cell_type": "code",
   "execution_count": 56,
   "metadata": {},
   "outputs": [
    {
     "name": "stderr",
     "output_type": "stream",
     "text": [
      "/tmp/ipykernel_19953/1822912054.py:1: FutureWarning: The input object of type 'Tensor' is an array-like implementing one of the corresponding protocols (`__array__`, `__array_interface__` or `__array_struct__`); but not a sequence (or 0-D). In the future, this object will be coerced as if it was first converted using `np.array(obj)`. To retain the old behaviour, you have to either modify the type 'Tensor', or assign to an empty array created with `np.empty(correct_shape, dtype=object)`.\n",
      "  masks_true = np.array([mask])\n"
     ]
    },
    {
     "ename": "ValueError",
     "evalue": "only one element tensors can be converted to Python scalars",
     "output_type": "error",
     "traceback": [
      "\u001b[0;31m---------------------------------------------------------------------------\u001b[0m",
      "\u001b[0;31mValueError\u001b[0m                                Traceback (most recent call last)",
      "\u001b[1;32m/home/igor/ml/Pytorch-UNet/utils/test_mask.ipynb Cell 14'\u001b[0m in \u001b[0;36m<cell line: 1>\u001b[0;34m()\u001b[0m\n\u001b[0;32m----> <a href='vscode-notebook-cell://wsl%2Bubuntu/home/igor/ml/Pytorch-UNet/utils/test_mask.ipynb#ch0000014vscode-remote?line=0'>1</a>\u001b[0m masks_true \u001b[39m=\u001b[39m np\u001b[39m.\u001b[39;49marray([mask])\n\u001b[1;32m      <a href='vscode-notebook-cell://wsl%2Bubuntu/home/igor/ml/Pytorch-UNet/utils/test_mask.ipynb#ch0000014vscode-remote?line=1'>2</a>\u001b[0m masks_pred \u001b[39m=\u001b[39m np\u001b[39m.\u001b[39marray([mask])\n",
      "\u001b[0;31mValueError\u001b[0m: only one element tensors can be converted to Python scalars"
     ]
    }
   ],
   "source": [
    "masks_true = np.array([mask])\n",
    "masks_pred = np.array([mask])"
   ]
  },
  {
   "cell_type": "code",
   "execution_count": null,
   "metadata": {},
   "outputs": [],
   "source": [
    "loss = nn.CrossEntropyLoss()(masks_pred, true_masks) #\\\n",
    "         + dice_loss(F.softmax(masks_pred, dim=1).float(),\n",
    "                     F.one_hot(true_masks, net.n_classes).permute(0, 3, 1, 2).float(),\n",
    "                    multiclass=True)"
   ]
  }
 ],
 "metadata": {
  "interpreter": {
   "hash": "0e5765327f64dd5ac083bb3eb75f57914ecde15ccd6783710634e86510edcc83"
  },
  "kernelspec": {
   "display_name": "Python 3.8.0 ('sol')",
   "language": "python",
   "name": "python3"
  },
  "language_info": {
   "codemirror_mode": {
    "name": "ipython",
    "version": 3
   },
   "file_extension": ".py",
   "mimetype": "text/x-python",
   "name": "python",
   "nbconvert_exporter": "python",
   "pygments_lexer": "ipython3",
   "version": "3.8.0"
  },
  "orig_nbformat": 4
 },
 "nbformat": 4,
 "nbformat_minor": 2
}
